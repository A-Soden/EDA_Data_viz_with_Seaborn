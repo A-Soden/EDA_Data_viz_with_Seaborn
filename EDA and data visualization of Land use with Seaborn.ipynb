{
 "cells": [
  {
   "cell_type": "markdown",
   "metadata": {},
   "source": [
    "## Exploratory Data Analysis and visualisation of UN FAO Land use data with Seaborn"
   ]
  },
  {
   "cell_type": "markdown",
   "metadata": {},
   "source": [
    "## 1) Python package and data import"
   ]
  },
  {
   "cell_type": "code",
   "execution_count": null,
   "metadata": {},
   "outputs": [],
   "source": [
    "%matplotlib inline\n",
    "import pandas as pd\n",
    "import numpy as np\n",
    "import matplotlib.pyplot as plt\n",
    "import seaborn as sns\n",
    "pd.set_option('display.max_rows', 500)\n",
    "pd.set_option('display.max_columns', None)"
   ]
  },
  {
   "cell_type": "code",
   "execution_count": null,
   "metadata": {},
   "outputs": [],
   "source": [
    "landuse = pd.read_csv('landuse_clean.csv')"
   ]
  },
  {
   "cell_type": "code",
   "execution_count": null,
   "metadata": {},
   "outputs": [],
   "source": [
    "landuse.head(4)"
   ]
  },
  {
   "cell_type": "code",
   "execution_count": null,
   "metadata": {},
   "outputs": [],
   "source": [
    "landuse.shape"
   ]
  },
  {
   "cell_type": "code",
   "execution_count": null,
   "metadata": {
    "scrolled": true
   },
   "outputs": [],
   "source": [
    "landuse.info()"
   ]
  },
  {
   "cell_type": "code",
   "execution_count": null,
   "metadata": {
    "scrolled": true
   },
   "outputs": [],
   "source": [
    "landuse['Country'].nunique() # number of unique country names in the DataFrame 'Country' column"
   ]
  },
  {
   "cell_type": "code",
   "execution_count": null,
   "metadata": {
    "scrolled": true
   },
   "outputs": [],
   "source": [
    "landuse['Country'].unique() # list of unique country names"
   ]
  },
  {
   "cell_type": "markdown",
   "metadata": {},
   "source": [
    "## 2) Sub-selection of landuse DataFrame \n",
    "Create 6 lists: 1) list that leaves only the countries 2) List of countries grouped by continental region 3) World region 4) Economic type 5) Continent 6) World: total data for all countries."
   ]
  },
  {
   "cell_type": "code",
   "execution_count": null,
   "metadata": {},
   "outputs": [],
   "source": [
    "not_countries_list = ['Africa', 'Asia', 'Americas', 'Australia and New Zealand','Belgium-Luxembourg',\n",
    "                    'Caribbean','Central America','Northern America','South America',\n",
    "                    'Eastern Africa','Middle Africa','Northern Africa','Southern Africa','Western Africa',\n",
    "                    'Central Asia','Eastern Asia','Western Asia','Southern Asia','South-Eastern Asia',\n",
    "                    'Eastern Europe', 'Europe','European Union','Northern Europe','Southern Europe',\n",
    "                    'Western Europe','Polynesia','Melanesia','Micronesia','Oceania','Least Developed Countries',\n",
    "                      'Land Locked Developing Countries','Small Island Developing States',\n",
    "                      'Low Income Food Deficit Countries',\n",
    "                      'Net Food Importing Developing Countries','World']"
   ]
  },
  {
   "cell_type": "code",
   "execution_count": null,
   "metadata": {},
   "outputs": [],
   "source": [
    "Cont_region_list = ['Caribbean','Central America','Northern America','South America',\n",
    "                    'Eastern Africa','Middle Africa','Northern Africa','Southern Africa','Western Africa',\n",
    "                    'Central Asia','Eastern Asia','Western Asia','Southern Asia','South-Eastern Asia',\n",
    "                    'Eastern Europe', 'Northern Europe','Southern Europe',\n",
    "                    'Western Europe','Polynesia','Melanesia','Micronesia','Oceania']"
   ]
  },
  {
   "cell_type": "code",
   "execution_count": null,
   "metadata": {},
   "outputs": [],
   "source": [
    "World_region_list =['Americas', 'Africa', 'Asia', 'Europe','Oceania']"
   ]
  },
  {
   "cell_type": "code",
   "execution_count": null,
   "metadata": {},
   "outputs": [],
   "source": [
    "Econ_area_list = ['European Union','Least Developed Countries','Land Locked Developing Countries','Small Island Developing States',\n",
    "                  'Low Income Food Deficit Countries','Net Food Importing Developing Countries']"
   ]
  },
  {
   "cell_type": "code",
   "execution_count": null,
   "metadata": {},
   "outputs": [],
   "source": [
    "Continent_list = ['Africa', 'Northern America','South America', 'Asia', 'Europe', 'Australia']"
   ]
  },
  {
   "cell_type": "code",
   "execution_count": null,
   "metadata": {},
   "outputs": [],
   "source": [
    "World = ['World']"
   ]
  },
  {
   "cell_type": "markdown",
   "metadata": {},
   "source": [
    "### 2.1) Create Countries DataFrame"
   ]
  },
  {
   "cell_type": "code",
   "execution_count": null,
   "metadata": {},
   "outputs": [],
   "source": [
    "countries = landuse.loc[~landuse['Country'].isin(not_countries_list)] \n",
    "#Use ~ to negate the boolean,selects rows that are not in the list."
   ]
  },
  {
   "cell_type": "code",
   "execution_count": null,
   "metadata": {},
   "outputs": [],
   "source": [
    "countries.head(100)"
   ]
  },
  {
   "cell_type": "code",
   "execution_count": null,
   "metadata": {
    "scrolled": true
   },
   "outputs": [],
   "source": [
    "countries.shape"
   ]
  },
  {
   "cell_type": "code",
   "execution_count": null,
   "metadata": {
    "scrolled": true
   },
   "outputs": [],
   "source": [
    "#countries['Country'].unique() # unique returns unique values as a numpy array"
   ]
  },
  {
   "cell_type": "markdown",
   "metadata": {},
   "source": [
    "Save countries data frame for making a choropleth"
   ]
  },
  {
   "cell_type": "code",
   "execution_count": null,
   "metadata": {},
   "outputs": [],
   "source": [
    "countries.to_csv('countries_land_use.csv', index=False);"
   ]
  },
  {
   "cell_type": "markdown",
   "metadata": {},
   "source": []
  },
  {
   "cell_type": "markdown",
   "metadata": {},
   "source": [
    "### 2.2) Create Continent Regions  DataFrame"
   ]
  },
  {
   "cell_type": "code",
   "execution_count": null,
   "metadata": {
    "scrolled": true
   },
   "outputs": [],
   "source": [
    "cont_regions = landuse.loc[landuse['Country'].isin(Cont_region_list)]\n",
    "cont_regions['Country'].unique()"
   ]
  },
  {
   "cell_type": "code",
   "execution_count": null,
   "metadata": {},
   "outputs": [],
   "source": [
    "cont_regions.shape"
   ]
  },
  {
   "cell_type": "markdown",
   "metadata": {},
   "source": [
    "### 2.3) Continents DataFrames"
   ]
  },
  {
   "cell_type": "code",
   "execution_count": null,
   "metadata": {},
   "outputs": [],
   "source": [
    "continents = landuse.loc[landuse['Country'].isin(Continent_list)]\n",
    "continents['Country'].unique()"
   ]
  },
  {
   "cell_type": "code",
   "execution_count": null,
   "metadata": {},
   "outputs": [],
   "source": [
    "continents.shape"
   ]
  },
  {
   "cell_type": "markdown",
   "metadata": {},
   "source": [
    "### 2.4) Create econ Dataframe"
   ]
  },
  {
   "cell_type": "code",
   "execution_count": null,
   "metadata": {},
   "outputs": [],
   "source": [
    "econ = landuse.loc[landuse['Country'].isin(Econ_area_list)]"
   ]
  },
  {
   "cell_type": "code",
   "execution_count": null,
   "metadata": {},
   "outputs": [],
   "source": [
    "econ.shape"
   ]
  },
  {
   "cell_type": "code",
   "execution_count": null,
   "metadata": {},
   "outputs": [],
   "source": [
    "econ['Country'].unique()"
   ]
  },
  {
   "cell_type": "code",
   "execution_count": null,
   "metadata": {
    "scrolled": true
   },
   "outputs": [],
   "source": [
    "econ.head(3)"
   ]
  },
  {
   "cell_type": "markdown",
   "metadata": {},
   "source": [
    "### 2.5) Create world region dataframe"
   ]
  },
  {
   "cell_type": "code",
   "execution_count": null,
   "metadata": {},
   "outputs": [],
   "source": [
    "World_region_list =['Americas', 'Africa', 'Asia', 'Europe','Oceania']\n",
    "world_reg = landuse.loc[landuse['Country'].isin(World_region_list)]\n",
    "world_reg['Country'].unique()"
   ]
  },
  {
   "cell_type": "markdown",
   "metadata": {},
   "source": [
    "### 2.6) Create World DataFrame\n",
    "From the Country column select values that are in the World list, which is just World."
   ]
  },
  {
   "cell_type": "code",
   "execution_count": null,
   "metadata": {},
   "outputs": [],
   "source": [
    "world = landuse.loc[landuse['Country'].isin(World)]"
   ]
  },
  {
   "cell_type": "code",
   "execution_count": null,
   "metadata": {
    "scrolled": true
   },
   "outputs": [],
   "source": [
    "world.head(3)"
   ]
  },
  {
   "cell_type": "code",
   "execution_count": null,
   "metadata": {},
   "outputs": [],
   "source": [
    "world.shape"
   ]
  },
  {
   "cell_type": "markdown",
   "metadata": {},
   "source": [
    "## 3) Melt and reshape each of the DataFrames"
   ]
  },
  {
   "cell_type": "code",
   "execution_count": null,
   "metadata": {},
   "outputs": [],
   "source": [
    "landuse.head(3)"
   ]
  },
  {
   "cell_type": "code",
   "execution_count": null,
   "metadata": {},
   "outputs": [],
   "source": [
    "landuse_melt = pd.melt(frame = landuse, id_vars =['Country', 'Land_use', 'Element', 'Unit'],var_name='year', value_name='hectares')"
   ]
  },
  {
   "cell_type": "code",
   "execution_count": null,
   "metadata": {},
   "outputs": [],
   "source": [
    "landuse_sorted =landuse_melt.sort_values(by=['Land_use', 'year'])\n",
    "landuse_sorted.head(8)"
   ]
  },
  {
   "cell_type": "code",
   "execution_count": null,
   "metadata": {},
   "outputs": [],
   "source": [
    "landuse_melt.head(2)"
   ]
  },
  {
   "cell_type": "markdown",
   "metadata": {},
   "source": [
    "#### Use pivot_table to create a DataFrame with land use variables as columns and each row is a individual obeservation for land use in a specific country for a specific year"
   ]
  },
  {
   "cell_type": "code",
   "execution_count": null,
   "metadata": {},
   "outputs": [],
   "source": [
    "landuse_cols =  landuse_melt.pivot_table(index=['Country','year'], columns='Land_use', values='hectares').reset_index()\n",
    "landuse_cols.head(2)"
   ]
  },
  {
   "cell_type": "code",
   "execution_count": null,
   "metadata": {},
   "outputs": [],
   "source": [
    "world.shape"
   ]
  },
  {
   "cell_type": "code",
   "execution_count": null,
   "metadata": {
    "scrolled": true
   },
   "outputs": [],
   "source": [
    "world_melt = pd.melt(frame = world, id_vars =['Country', 'Land_use', 'Element', 'Unit'],\n",
    "                             var_name='year', value_name='hectares')\n",
    "world_melt.head(2)"
   ]
  },
  {
   "cell_type": "code",
   "execution_count": null,
   "metadata": {
    "scrolled": true
   },
   "outputs": [],
   "source": [
    "world_pivot = world_melt.pivot_table(index=['Country','year'], columns='Land_use', values='hectares')\n",
    "world_cols = world_pivot.reset_index()\n",
    "world_cols"
   ]
  },
  {
   "cell_type": "code",
   "execution_count": null,
   "metadata": {},
   "outputs": [],
   "source": [
    "world_cols.columns"
   ]
  },
  {
   "cell_type": "code",
   "execution_count": null,
   "metadata": {},
   "outputs": [],
   "source": [
    "world_reg_melt = pd.melt(frame = world_reg, id_vars =['Country', 'Land_use', 'Element', 'Unit'],\n",
    "                             var_name='year', value_name='hectares')\n",
    "world_reg_melt"
   ]
  },
  {
   "cell_type": "code",
   "execution_count": null,
   "metadata": {},
   "outputs": [],
   "source": [
    "world_reg_pivot = world_reg_melt.pivot_table(index=['Country','year'], columns='Land_use', values='hectares')\n",
    "world_reg_cols = world_reg_pivot.reset_index()\n",
    "world_reg_cols"
   ]
  },
  {
   "cell_type": "code",
   "execution_count": null,
   "metadata": {
    "scrolled": true
   },
   "outputs": [],
   "source": [
    "countries_melt = pd.melt(frame = countries, id_vars =['Country', 'Land_use', 'Element', 'Unit'],\n",
    "                             var_name='year', value_name='hectares')\n",
    "countries_melt"
   ]
  },
  {
   "cell_type": "code",
   "execution_count": null,
   "metadata": {
    "scrolled": true
   },
   "outputs": [],
   "source": [
    "countries_pivot = countries_melt.pivot_table(index=['Country','year'], columns='Land_use', values='hectares')\n",
    "countries_cols = countries_pivot.reset_index()\n",
    "countries_cols"
   ]
  },
  {
   "cell_type": "code",
   "execution_count": null,
   "metadata": {
    "scrolled": true
   },
   "outputs": [],
   "source": [
    "cont_regions_melt = pd.melt(frame = cont_regions, id_vars =['Country', 'Land_use', 'Element', 'Unit'],\n",
    "                             var_name='year', value_name='hectares')\n",
    "cont_regions_pivot = cont_regions_melt.pivot_table(index=['Country','year'], columns='Land_use', values='hectares')\n",
    "cont_regions_cols = cont_regions_pivot.reset_index()\n",
    "cont_regions_cols"
   ]
  },
  {
   "cell_type": "code",
   "execution_count": null,
   "metadata": {
    "scrolled": true
   },
   "outputs": [],
   "source": [
    "continents_melt = pd.melt(frame = continents, id_vars =['Country', 'Land_use', 'Element', 'Unit'],\n",
    "                             var_name='year', value_name='hectares')\n",
    "continents_melt"
   ]
  },
  {
   "cell_type": "code",
   "execution_count": null,
   "metadata": {},
   "outputs": [],
   "source": [
    "continents_pivot = continents_melt.pivot_table(index=['Country','year'], columns='Land_use', values='hectares')\n",
    "continents_cols = continents_pivot.reset_index()\n",
    "continents_cols"
   ]
  },
  {
   "cell_type": "code",
   "execution_count": null,
   "metadata": {},
   "outputs": [],
   "source": [
    "econ_melt = pd.melt(frame = econ, id_vars =['Country', 'Land_use', 'Element', 'Unit'],\n",
    "                             var_name='year', value_name='hectares')\n",
    "econ_pivot = econ_melt.pivot_table(index=['Country','year'], columns='Land_use', values='hectares')\n",
    "econ_cols = econ_pivot.reset_index()\n",
    "econ_cols"
   ]
  },
  {
   "cell_type": "markdown",
   "metadata": {},
   "source": [
    "## 4) Data visualisation"
   ]
  },
  {
   "cell_type": "markdown",
   "metadata": {},
   "source": [
    "DataFrames  \n",
    "world, world_melt, world_cols  \n",
    "world_reg, world_reg_melt, world_reg_cols  \n",
    "countries, countries_melt, countries_cols  \n",
    "cont_regions, cont_regions_melt, cont_regions_cols  \n",
    "continents, continents_melt, continents_cols  \n",
    "econ, econ_melt, econ_cols  \n",
    "\n",
    "What variables do we want to look at to examine food production globally?  \n",
    "Cropland combines \"Arable land\" and \"Permanent crops\".  \n",
    "\"Arable land\" combines land under temporary crops (<1 year growing cycle, newly sown after the harvest), temporary meadows and pastures (cultivated with herbaceous forage crops for mowing and pasture for period of <5 year), and land with temporary fallow.  \n",
    "Land under Permanent crops is land cultivated with long-term crops which do not have to be replanted for several years (e.g. cocoa and coffee), land under trees and shrubs producing flowers, and nurseries (except those for forest trees, which are classed under \"Forestry\").   \n",
    "Land under Permanent meadows and pastures is land used permanently (five years or more) to grow herbaceous forage crops through cultivation or naturally (wild prairie or grazing land).  \n",
    "To get a detailed picture of food production we will use the more granular variables rather than \"Cropland\".  \n",
    "Examining the Non-Null Count below for Arable and the individual temporary variables shows that Arable has 14991 non-null values versus 3192 and 5643 non-null values for the temporary variables. So we will use Arable land for temporary land use measures. Land under permanent medows and crops are >14,000. \n",
    "\n",
    "#### Not all land use measures are recorded for every area. But Arable Land, Land under perm. meadows and pastures and Land under permanent crops are recorded for all sub-dataframes."
   ]
  },
  {
   "cell_type": "code",
   "execution_count": null,
   "metadata": {},
   "outputs": [],
   "source": [
    "#landuse_cols.info()"
   ]
  },
  {
   "cell_type": "markdown",
   "metadata": {},
   "source": [
    "### 4.1) Analysis of world level data "
   ]
  },
  {
   "cell_type": "code",
   "execution_count": null,
   "metadata": {
    "scrolled": true
   },
   "outputs": [],
   "source": [
    "world_cols.columns"
   ]
  },
  {
   "cell_type": "markdown",
   "metadata": {},
   "source": [
    "#### Create a subset of the DataFrame with columns of interest"
   ]
  },
  {
   "cell_type": "code",
   "execution_count": null,
   "metadata": {},
   "outputs": [],
   "source": [
    "world_cols_cp = world_cols[['Country','Land area','year','Arable land',\n",
    "                            'Land under perm. meadows and pastures','Land under permanent crops']]\n",
    "type(world_cols_cp)"
   ]
  },
  {
   "cell_type": "markdown",
   "metadata": {},
   "source": [
    "### Distribution plot\n",
    "Create a Distplot to look at the distribution of hectares for each land use type from 1961-2017. Setting kde=False creates a histogram for each of the land use variables."
   ]
  },
  {
   "cell_type": "code",
   "execution_count": null,
   "metadata": {
    "scrolled": false
   },
   "outputs": [],
   "source": [
    "sns.set_style('ticks')\n",
    "sns.set_context('notebook')\n",
    "\n",
    "fig, (ax0, ax1, ax2) = plt.subplots(nrows=3, ncols=1, sharey=True, figsize=(7,10))\n",
    "\n",
    "sns.distplot(world_cols_cp['Arable land'], ax=ax0, kde=False,rug=True, axlabel='Arable land (ha)', bins=10, color='brown')\n",
    "ax0.set_ylabel('Frequency')\n",
    "\n",
    "\n",
    "sns.distplot(world_cols_cp['Land under perm. meadows and pastures'],ax=ax1, kde=False, rug=True,\n",
    "             axlabel='Permanent meadows & pastures (ha)', bins=10, color='green')\n",
    "ax1.set_ylabel('Frequency')\n",
    "\n",
    "\n",
    "sns.distplot(world_cols_cp['Land under permanent crops'],ax=ax2, hist=True, kde=False, rug=True,axlabel='Permanent crops (ha)', \n",
    "             bins=10, color='orange')\n",
    "ax2.set_ylabel('Frequency')\n",
    "\n",
    "\n",
    "sns.despine() #remove top and left box boundary\n",
    "\n",
    "plt.tight_layout(pad=1.0)\n",
    "plt.show()"
   ]
  },
  {
   "cell_type": "markdown",
   "metadata": {},
   "source": [
    "### Relational plots and Categorical plots"
   ]
  },
  {
   "cell_type": "code",
   "execution_count": null,
   "metadata": {},
   "outputs": [],
   "source": [
    "melt_world_cols_cp = pd.melt(frame=world_cols_cp, id_vars =['Country', 'Land area', 'year'],\n",
    "                             var_name='Land use', value_name='hectares')\n",
    "melt_world_cols_cp.head(2)"
   ]
  },
  {
   "cell_type": "markdown",
   "metadata": {},
   "source": [
    "#### Create a new column for land use as a percentage of global land area"
   ]
  },
  {
   "cell_type": "code",
   "execution_count": null,
   "metadata": {},
   "outputs": [],
   "source": [
    "melt_world_cols_cp['hect_pct'] = 100 * melt_world_cols_cp['hectares']/melt_world_cols_cp['Land area']"
   ]
  },
  {
   "cell_type": "code",
   "execution_count": null,
   "metadata": {
    "scrolled": true
   },
   "outputs": [],
   "source": [
    "melt_world_cols_cp.head(2)"
   ]
  },
  {
   "cell_type": "code",
   "execution_count": null,
   "metadata": {},
   "outputs": [],
   "source": [
    "cp_palette = ['brown', 'green', 'orange']\n",
    "\n",
    "g=sns.catplot(x='Land use', y='hectares', data = melt_world_cols_cp, aspect=1.4, kind='bar', palette=cp_palette)\n",
    "g.set(ylabel='Global Land use', xlabel='')\n",
    "g.set_xticklabels(['Arable', 'Perm meadows & pastures', 'Permanent crops'], size =12)\n",
    "g.set_yticklabels(size=12)\n",
    "\n",
    "h=sns.catplot(x='Land use', y='hect_pct', data = melt_world_cols_cp, aspect=1.4, kind='bar',palette=cp_palette)\n",
    "h.set(ylabel='Land use as a % of global land area', xlabel='')\n",
    "h.set_xticklabels(['Arable', 'Perm meadows & pastures', 'Permanent crops'], size=12)\n",
    "h.set_yticklabels(size=12)\n",
    "\n",
    "plt.subplots_adjust(hspace= 0.3)\n",
    "plt.show()"
   ]
  },
  {
   "cell_type": "markdown",
   "metadata": {},
   "source": [
    "### Boxplot"
   ]
  },
  {
   "cell_type": "code",
   "execution_count": null,
   "metadata": {},
   "outputs": [],
   "source": [
    "g=sns.catplot(x='Land use', y='hectares', data=melt_world_cols_cp, kind='box', aspect=1.5, palette=cp_palette)\n",
    "g.fig.suptitle('World land use from 1961 to 2017', y=1.03)\n",
    "g.set(ylabel='Hectares', xlabel='')\n",
    "g.set_xticklabels(['Arable', 'Perm meadows & pastures', 'Permanent crops'])\n",
    "\n",
    "plt.show()"
   ]
  },
  {
   "cell_type": "markdown",
   "metadata": {},
   "source": [
    "### relplot lineplot"
   ]
  },
  {
   "cell_type": "code",
   "execution_count": null,
   "metadata": {
    "scrolled": false
   },
   "outputs": [],
   "source": [
    "sns.set(style=\"ticks\")\n",
    "g=sns.relplot(x='year', y='hectares', data=melt_world_cols_cp, kind='line',hue='Land use', aspect=1.5, palette=cp_palette)\n",
    "g.set(ylabel='Hectares', xlabel='')\n",
    "g.fig.suptitle(\"Global land use\", y=1.03) \n",
    "\n",
    "#A typical way of changing the location of a legend in matplotlib is to use the arguments loc and bbox_to_anchor.\n",
    "#In Seaborn's relplot a FacetGrid object is returned. In order to get the legend object we can use ._legend. \n",
    "#We can then set the bbox_to_anchor\n",
    "\n",
    "g._legend.set_bbox_to_anchor([1,0.6]) \n",
    "\n",
    "g.set(xticks=melt_world_cols_cp.year[0::3]) # start at 0 and show every third tick label\n",
    "\n",
    "plt.xticks(rotation=60)\n",
    "plt.tight_layout(pad=2.0)\n",
    "plt.show()"
   ]
  },
  {
   "cell_type": "markdown",
   "metadata": {},
   "source": [
    "### 4.2) Continent level analysis"
   ]
  },
  {
   "cell_type": "code",
   "execution_count": null,
   "metadata": {},
   "outputs": [],
   "source": [
    "cont_cols_cp = continents_cols[['Country','Land area','year','Arable land',\n",
    "                            'Land under perm. meadows and pastures','Land under permanent crops']]"
   ]
  },
  {
   "cell_type": "code",
   "execution_count": null,
   "metadata": {},
   "outputs": [],
   "source": [
    "melt_cont_cols_cp = pd.melt(cont_cols_cp, id_vars=['Country', 'Land area', 'year'],\n",
    "                           var_name='Land use', value_name='hectares')\n",
    "melt_cont_cols_cp"
   ]
  },
  {
   "cell_type": "code",
   "execution_count": null,
   "metadata": {},
   "outputs": [],
   "source": [
    "melt_cont_cols_cp['hect_pct'] = 100 * melt_cont_cols_cp['hectares']/melt_cont_cols_cp['Land area']\n",
    "melt_cont_cols_cp.head(20)"
   ]
  },
  {
   "cell_type": "code",
   "execution_count": null,
   "metadata": {},
   "outputs": [],
   "source": [
    "#continent=sns.color_palette('hls',8)\n",
    "#sns.palplot(continent)"
   ]
  },
  {
   "cell_type": "code",
   "execution_count": null,
   "metadata": {},
   "outputs": [],
   "source": [
    "cust_cont = ['crimson', 'darkorange','greenyellow','forestgreen',\n",
    "                  'cyan','blue']\n",
    "sns.set_palette(cust_cont)\n",
    "sns.palplot(cust_cont)"
   ]
  },
  {
   "cell_type": "markdown",
   "metadata": {},
   "source": [
    "### Swarmplot"
   ]
  },
  {
   "cell_type": "code",
   "execution_count": null,
   "metadata": {},
   "outputs": [],
   "source": [
    "sns.set_style('whitegrid')\n",
    "g=sns.stripplot(data=melt_cont_cols_cp, y='Land use', x='hectares', hue='Country',jitter=True, dodge=True, palette=cust_cont)\n",
    "g.set(xlabel='Hectares', ylabel='')\n",
    "g.set_yticklabels(['Arable', 'Perm meadows & pastures', 'Permanent crops'])\n",
    "plt.legend(bbox_to_anchor=(1.05, 1), loc=2, borderaxespad=0.)\n",
    "plt.show()"
   ]
  },
  {
   "cell_type": "code",
   "execution_count": null,
   "metadata": {
    "scrolled": false
   },
   "outputs": [],
   "source": [
    "# top plot dodge=True, bottom plot dodge=False\n",
    "sns.set_style('whitegrid')\n",
    "\n",
    "fig, (ax0, ax1) = plt.subplots(nrows=2, ncols=1, figsize=(6,10))\n",
    "\n",
    "sns.swarmplot(data=melt_cont_cols_cp, y='Land use', x='hectares',hue='Country', dodge=True, palette=cust_cont, ax=ax0)\n",
    "ax0.set(xlabel='Land use (ha), 1961-2017', ylabel='')\n",
    "ax0.set_yticklabels(['Arable', 'Perm meadows & pastures', 'Permanent crops'])\n",
    "ax0.legend(bbox_to_anchor=(1.05, 1), loc=2, borderaxespad=0.)\n",
    "\n",
    "\n",
    "sns.swarmplot(data=melt_cont_cols_cp, y='Land use', x='hect_pct',hue='Country', dodge=False, palette=cust_cont, ax=ax1)\n",
    "ax1.set(xlabel='Land use as % of continent land area, 1961-2017', ylabel='')\n",
    "ax1.set_yticklabels(['Arable', 'Perm meadows & pastures', 'Permanent crops'])\n",
    "ax1.legend(bbox_to_anchor=(1.05, 1), loc=2, borderaxespad=0.)\n",
    "\n",
    "fig.suptitle(\"Continental land use from 1961-2017\", y=0.91)\n",
    "\n",
    "plt.subplots_adjust(hspace=0.3)\n",
    "plt.show()"
   ]
  },
  {
   "cell_type": "code",
   "execution_count": null,
   "metadata": {},
   "outputs": [],
   "source": [
    "sns.set(style='ticks')\n",
    "f=sns.relplot(x='year', y='hectares', data=melt_cont_cols_cp, kind='scatter',hue='Country',row='Land use', height=4, aspect=3, \n",
    "              palette=cust_cont)\n",
    "f.set(ylabel='Hectares', xlabel='')\n",
    "f.fig.suptitle(\"Continental land use from 1961-2017\", y=1.03)\n",
    "f.set_xticklabels(rotation=90)\n",
    "plt.subplots_adjust(hspace=0.25)\n",
    "plt.show()\n"
   ]
  },
  {
   "cell_type": "markdown",
   "metadata": {},
   "source": [
    "### 4.3) Country level analysis"
   ]
  },
  {
   "cell_type": "markdown",
   "metadata": {},
   "source": [
    "#### Analyse countries at continent level.\n",
    "Plotting data for 240 countries is unyieldy. Clearly some continents have the largest proportion of arable land and in some continents the amount of land in agricultural use has increased. Interestingly for the majority of continents land use has remained constant, despite world population growing. "
   ]
  },
  {
   "cell_type": "markdown",
   "metadata": {},
   "source": [
    "If we want to carry out a detailed analysis at country level, subdividing the dataframe by continent would be an efficient approach. To do this we will have to add a column for continent to the countries_cols DataFrame. We'll add the column to the entire countries DataFrame not just the sub-dataframe for arable and permanent pastures, as it might be useful to have it for analysis of other variables later on, such as forestry etc.\n",
    "\n",
    "For each country in the countries_cols dataframe we have to assign a continent label in a new column. We can use Pandas map() function to do this. There are a few steps we have to complete before using the map function."
   ]
  },
  {
   "cell_type": "markdown",
   "metadata": {},
   "source": [
    "### 4.3.1) Dictionaries from lists and DataFrame .query()"
   ]
  },
  {
   "cell_type": "markdown",
   "metadata": {},
   "source": [
    "### A) Create lists of countries in each continent. \n",
    "These lists will be used to create a dictionary of values for each continent that can be mapped to each country in the dataframe."
   ]
  },
  {
   "cell_type": "code",
   "execution_count": null,
   "metadata": {},
   "outputs": [],
   "source": [
    "Asia=['Afghanistan','Armenia','Azerbaijan',\n",
    "       'Bahrain', 'Bangladesh','Bhutan', 'Brunei Darussalam', \n",
    "      'Cambodia', 'China', 'China, Hong Kong SAR', 'China, Macao SAR',\n",
    "       'China, Taiwan Province of', 'China, mainland','Cyprus',\n",
    "      \"Democratic People's Republic of Korea\",\n",
    "       'Georgia', 'India', 'Indonesia', 'Iran (Islamic Republic of)',\n",
    "       'Iraq', 'Israel','Japan', 'Jordan', 'Kazakhstan', 'Kuwait',\n",
    "       'Kyrgyzstan', \"Lao People's Democratic Republic\",\n",
    "       'Lebanon', 'Malaysia','Maldives', 'Mongolia', 'Myanmar', \n",
    "      'Nepal', 'Oman','Pakistan','Palestine','Philippines',\n",
    "      'Qatar','Republic of Korea', 'Saudi Arabia','Singapore', \n",
    "      'Sri Lanka', 'Syrian Arab Republic', 'Tajikistan',\n",
    "       'Thailand', 'Timor-Leste', 'Turkey', 'Turkmenistan',\n",
    "      'United Arab Emirates', 'Uzbekistan', 'Viet Nam','Yemen']"
   ]
  },
  {
   "cell_type": "code",
   "execution_count": null,
   "metadata": {},
   "outputs": [],
   "source": [
    "Africa = ['Algeria','Angola', \n",
    "          'Benin', 'Botswana', 'Burkina Faso', 'Burundi',\n",
    "       'Cabo Verde', 'Cameroon','Central African Republic', 'Chad', 'Comoros', 'Congo', \n",
    "          \"Côte d'Ivoire\",'Democratic Republic of the Congo', 'Djibouti',\n",
    "       'Egypt', 'Equatorial Guinea', 'Eritrea','Eswatini', 'Ethiopia', 'Ethiopia PDR',\n",
    "       'Gabon', 'Gambia','Ghana', 'Guinea','Guinea-Bissau', \n",
    "          'Kenya', 'Lesotho', 'Liberia', 'Libya', 'Madagascar', \n",
    "        'Malawi','Mali','Mauritania', 'Mauritius', 'Mayotte', 'Morocco', 'Mozambique', \n",
    "          'Namibia','Niger', 'Nigeria','Réunion','Rwanda',\n",
    "       'Saint Helena, Ascension and Tristan da Cunha','Sao Tome and Principe','Senegal', 'Seychelles',\n",
    "       'Sierra Leone', 'Somalia', 'South Africa', 'South Sudan','Sudan', 'Sudan (former)',\n",
    "          'Togo', 'Tunisia', 'Uganda', 'United Republic of Tanzania', 'Western Sahara', \n",
    "          'Zambia', 'Zimbabwe']"
   ]
  },
  {
   "cell_type": "code",
   "execution_count": null,
   "metadata": {},
   "outputs": [],
   "source": [
    "Europe = ['Albania','Andorra','Austria', \n",
    "          'Belarus','Belgium', 'Bosnia and Herzegovina','Bulgaria',\n",
    "          'Channel Islands','Croatia','Czechia', 'Czechoslovakia', \n",
    "          'Denmark', 'Estonia','Faroe Islands','Finland',\n",
    "       'France', 'Germany','Gibraltar', 'Greece', 'Hungary',\n",
    "       'Iceland', 'Ireland', 'Isle of Man', 'Italy', 'Latvia',\n",
    "          'Liechtenstein','Lithuania', 'Luxembourg', 'Malta', 'Montenegro',\n",
    "          'Netherlands', 'North Macedonia', 'Norway', 'Poland', 'Portugal',\n",
    "          'Republic of Moldova', 'Romania', 'Russian Federation',\n",
    "          'San Marino', 'Serbia', 'Serbia and Montenegro', 'Slovakia', 'Slovenia',\n",
    "       'Spain', 'Sweden', 'Switzerland', 'Ukraine','United Kingdom','USSR',\n",
    "          'Yugoslav SFR']"
   ]
  },
  {
   "cell_type": "code",
   "execution_count": null,
   "metadata": {},
   "outputs": [],
   "source": [
    "Australia = ['Australia', 'New Zealand', 'Norfolk Island']"
   ]
  },
  {
   "cell_type": "code",
   "execution_count": null,
   "metadata": {},
   "outputs": [],
   "source": [
    "Northern_America = ['Bermuda','Canada','Greenland','Saint Pierre and Miquelon','United States of America']"
   ]
  },
  {
   "cell_type": "code",
   "execution_count": null,
   "metadata": {},
   "outputs": [],
   "source": [
    "South_America = ['Argentina','Bolivia (Plurinational State of)','Brazil','Chile','Colombia',\n",
    "                 'Ecuador','Falkland Islands (Malvinas)', 'French Guiana','Guyana','Paraguay','Peru',\n",
    "                'Suriname','Uruguay','Venezuela (Bolivarian Republic of)']"
   ]
  },
  {
   "cell_type": "markdown",
   "metadata": {},
   "source": [
    "### B) Change the lists into dictionaries using dict.fromkeys(seq, 'value')\n",
    "The first argument is seq, the list of values that will be used as the dictionary keys (key = country in country list above).  \n",
    "The second argument is value and is the value of the key, value = continent  \n",
    "Inputting a single value for the value argument means that all values in the key:value pairs will be the same.  \n",
    "Using the dictionary we map the continent value to the countries as a new column. "
   ]
  },
  {
   "cell_type": "code",
   "execution_count": null,
   "metadata": {},
   "outputs": [],
   "source": [
    "#Change each list into a dictionary\n",
    "Asia_dict = dict.fromkeys(Asia, 'Asia')\n",
    "Africa_dict = dict.fromkeys(Africa, 'Africa')\n",
    "Europe_dict = dict.fromkeys(Europe, 'Europe')\n",
    "Aus_dict = dict.fromkeys(Australia, 'Australia')\n",
    "North_America_dict = dict.fromkeys(Northern_America, 'Northern America')\n",
    "South_America_dict = dict.fromkeys(South_America, 'South America')"
   ]
  },
  {
   "cell_type": "code",
   "execution_count": null,
   "metadata": {
    "scrolled": true
   },
   "outputs": [],
   "source": [
    "Asia_dict"
   ]
  },
  {
   "cell_type": "markdown",
   "metadata": {},
   "source": [
    "Merge the 6 dictionaries into a single County_cont_dict."
   ]
  },
  {
   "cell_type": "code",
   "execution_count": null,
   "metadata": {},
   "outputs": [],
   "source": [
    "# Merge all the dictionaries into one dictionary\n",
    "Country_cont_dict = {**Asia_dict, **Africa_dict, **Europe_dict, ** Aus_dict, **North_America_dict,**South_America_dict} "
   ]
  },
  {
   "cell_type": "code",
   "execution_count": null,
   "metadata": {},
   "outputs": [],
   "source": [
    "countries_cols['Continent'] = countries_cols['Country'].map(Country_cont_dict)"
   ]
  },
  {
   "cell_type": "markdown",
   "metadata": {},
   "source": [
    "Create a new column 'Continent' in the countries_cols DataFrame and use the map() function to map the key from the dictionary to the corresponding 'Country' value in the countries_cols DataFrame. The key value is then added to the continent column."
   ]
  },
  {
   "cell_type": "code",
   "execution_count": null,
   "metadata": {},
   "outputs": [],
   "source": [
    "countries_cols.head()"
   ]
  },
  {
   "cell_type": "code",
   "execution_count": null,
   "metadata": {},
   "outputs": [],
   "source": [
    "coun_cols_cp = countries_cols[['Continent','Country','Land area','year','Arable land',\n",
    "                            'Land under perm. meadows and pastures','Land under permanent crops']]\n",
    "melt_coun_cols_cp = pd.melt(coun_cols_cp, id_vars=['Continent','Country', 'Land area', 'year'],\n",
    "                           var_name='Land use', value_name='hectares')\n",
    "melt_coun_cols_cp.head(2)"
   ]
  },
  {
   "cell_type": "code",
   "execution_count": null,
   "metadata": {},
   "outputs": [],
   "source": [
    "#number of individual countries in the DataFrame. \n",
    "#Not all countries have a continent label as smaller islands are not included in the continent lists,\n",
    "#such as islands in thh Oceania region.\n",
    "num=coun_cols_cp['Country']\n",
    "num.nunique(dropna=False)"
   ]
  },
  {
   "cell_type": "code",
   "execution_count": null,
   "metadata": {},
   "outputs": [],
   "source": [
    "coun_cols_cp.describe()"
   ]
  },
  {
   "cell_type": "markdown",
   "metadata": {},
   "source": [
    "### Scatterplot"
   ]
  },
  {
   "cell_type": "code",
   "execution_count": null,
   "metadata": {
    "scrolled": false
   },
   "outputs": [],
   "source": [
    "fig, ax  = plt.subplots(figsize=(20,15))\n",
    "sns.set_context('talk')\n",
    "sns.scatterplot(x='Land area', y='hectares',data=melt_coun_cols_cp,hue='Country',palette= 'tab20', style='Land use',ax=ax,s=100)\n",
    "ax.set(xlabel='Land area (ha)', ylabel='Hectares')\n",
    "ax.legend(loc='upper left', bbox_to_anchor=(0, -0.1),borderaxespad=0.,ncol=8, fontsize=14)\n",
    "plt.show()"
   ]
  },
  {
   "cell_type": "markdown",
   "metadata": {},
   "source": [
    "### relplot scatterplot"
   ]
  },
  {
   "cell_type": "code",
   "execution_count": null,
   "metadata": {},
   "outputs": [],
   "source": [
    "sns.set_context('notebook')\n",
    "g=sns.relplot(x='year', y='hectares', data=melt_coun_cols_cp, kind='scatter', row='Land use',\n",
    "            size='Land area', hue='Land area', aspect=2.0, palette='RdYlGn')\n",
    "g.set(xlabel='')\n",
    "g.set_xticklabels(rotation=90)\n",
    "plt.subplots_adjust(hspace=0.3)"
   ]
  },
  {
   "cell_type": "code",
   "execution_count": null,
   "metadata": {},
   "outputs": [],
   "source": [
    "melt_coun_cols_cp.head(2)"
   ]
  },
  {
   "cell_type": "markdown",
   "metadata": {},
   "source": [
    "#### Customised color palettes"
   ]
  },
  {
   "cell_type": "code",
   "execution_count": null,
   "metadata": {},
   "outputs": [],
   "source": [
    "Asia_country=['dimgrey', 'lightgrey', 'rosybrown','lightcoral','firebrick','red','mistyrose','coral','orangered', 'chocolate','saddlebrown',\n",
    "             'peachpuff','peru','darkorange','tan','goldenrod','gold','khaki', 'darkkhaki','olive','yellow','olivedrab','yellowgreen',\n",
    "             'greenyellow','darkseagreen','lightgreen','forestgreen','lime','aquamarine','mediumturquoise','lightcyan','teal','aqua','powderblue',\n",
    "             'deepskyblue','lightskyblue','steelblue','dodgerblue','cornflowerblue','royalblue','lavender','midnightblue','blue','darkslateblue','mediumslateblue',\n",
    "             'mediumpurple','rebeccapurple','indigo','darkorchid','thistle','hotpink','purple']\n",
    "#'violet','magenta','orchid','mediumvioletred','hotpink','lavenderblush','palevioletred','pink']\n",
    "\n",
    "Africa_country=['dimgrey', 'lightgrey', 'rosybrown','lightcoral','firebrick','red','mistyrose','coral','orangered', 'chocolate','saddlebrown',\n",
    "             'peachpuff','peru','darkorange','tan','goldenrod','gold','khaki', 'darkkhaki','olive','yellow','olivedrab','yellowgreen',\n",
    "             'greenyellow','darkseagreen','lightgreen','forestgreen','lime','aquamarine','mediumturquoise','lightcyan','teal','aqua','powderblue',\n",
    "             'deepskyblue','lightskyblue','steelblue','dodgerblue','cornflowerblue','royalblue','lavender','midnightblue','blue','darkslateblue','mediumslateblue',\n",
    "             'mediumpurple','rebeccapurple','indigo','darkorchid','thistle','hotpink','purple','violet','magenta','orchid',\n",
    "                'mediumvioletred','hotpink','lavenderblush','palevioletred','pink']\n",
    "\n",
    "#sns.palplot(cust_country)\n",
    "#60 colours in palette\n",
    "#60 countries in Africa DF\n",
    "#52 countries in Asia DF"
   ]
  },
  {
   "cell_type": "code",
   "execution_count": null,
   "metadata": {},
   "outputs": [],
   "source": [
    "country=sns.color_palette('plasma',52)\n",
    "sns.palplot(country)"
   ]
  },
  {
   "cell_type": "code",
   "execution_count": null,
   "metadata": {},
   "outputs": [],
   "source": [
    "count = sns.husl_palette(52, h=.5)\n",
    "sns.palplot(count)"
   ]
  },
  {
   "cell_type": "markdown",
   "metadata": {},
   "source": [
    "### Select countries from each continent using .query() to plot on scatter plots grouped by land use"
   ]
  },
  {
   "cell_type": "code",
   "execution_count": null,
   "metadata": {
    "scrolled": false
   },
   "outputs": [],
   "source": [
    "plot = sns.relplot(x='Land area', y='hectares', data=melt_coun_cols_cp.query('Continent ==\"Asia\"'), \n",
    "                  kind='scatter',col='Land use',col_wrap = 2, hue = 'Country', \n",
    "                size='Land area',sizes=(50,200),legend='brief', aspect=1, palette=Asia_country)\n",
    "\n",
    "plot.fig.suptitle('Land use in Asia from 1961 - 2017', x=0.5, y=1.025)\n",
    "#g._legend.set_title('title')\n",
    "\n",
    "# remove the default legend and create a separate legend object that can be located using bbox_to_anchor\n",
    "handles,labels = plot.axes[0].get_legend_handles_labels()\n",
    "plot._legend.remove()\n",
    "plot.fig.legend(handles, labels, ncol=3, bbox_to_anchor=(1.20, 0.47), frameon=False); \n",
    "#placing ; at the end of the last line of code removes the line of text printed above the plot"
   ]
  },
  {
   "cell_type": "code",
   "execution_count": null,
   "metadata": {},
   "outputs": [],
   "source": [
    "pal1=['orangered','peru','gold','khaki','darkkhaki','navy','deepskyblue','dimgrey',\n",
    "              'lightskyblue','lime','indigo','thistle']\n",
    "\n",
    "plot = sns.relplot(x='year', y='hectares', data=melt_coun_cols_cp.query('Continent==\"Asia\" & hectares > 25000'), \n",
    "                  kind='line',col='Land use', col_wrap=1,hue = 'Country',legend='brief', aspect=2, palette=pal1)\n",
    "plt.xticks(rotation=90)\n",
    "plt.subplots_adjust(hspace=0.3);"
   ]
  },
  {
   "cell_type": "code",
   "execution_count": null,
   "metadata": {
    "scrolled": false
   },
   "outputs": [],
   "source": [
    "plot = sns.relplot(x='Land area', y='hectares', data=melt_coun_cols_cp.query('Continent ==\"Africa\"'), \n",
    "                  kind='scatter',col='Land use',col_wrap = 2, hue = 'Country', \n",
    "                size='Land area',sizes=(50,200),\n",
    "                legend='brief', aspect=1, palette=Africa_country)\n",
    "plot.fig.suptitle('Land use in Africa from 1961 - 2017', x=0.5, y=1.025)\n",
    "\n",
    "handles,labels = plot.axes[0].get_legend_handles_labels()\n",
    "plot._legend.remove()\n",
    "plot.fig.legend(handles, labels, ncol=3, bbox_to_anchor=(1.015, 0.49), \n",
    "                 frameon=False);"
   ]
  },
  {
   "cell_type": "code",
   "execution_count": null,
   "metadata": {},
   "outputs": [],
   "source": [
    "pal2=['orangered','peru','gold','khaki','darkkhaki','navy','deepskyblue','dimgrey',\n",
    "              'lightskyblue','lime','indigo','thistle']\n",
    "\n",
    "plot2 = sns.relplot(x='year', y='hectares', data=melt_coun_cols_cp.query('Continent==\"Africa\" & hectares>50000'), \n",
    "                  kind='line',col='Land use', col_wrap=1,hue = 'Country',legend='brief', aspect=2)\n",
    "plt.xticks(rotation=90);\n",
    "#plt.subplots_adjust(hspace=0.3);"
   ]
  },
  {
   "cell_type": "code",
   "execution_count": null,
   "metadata": {},
   "outputs": [],
   "source": [
    "plot = sns.relplot(x='Land area', y='hectares', data=melt_coun_cols_cp.query('Continent ==\"Europe\"'), \n",
    "                  kind='scatter',col='Land use',col_wrap = 2, hue = 'Country', \n",
    "                size='Land area',sizes=(50,200),alpha=0.5,\n",
    "                legend='brief', aspect=1)\n",
    "plot.fig.suptitle('Land use in Europe from 1961 - 2017', x=0.5, y=1.025)\n",
    "handles,labels = plot.axes[0].get_legend_handles_labels()\n",
    "plot._legend.remove()\n",
    "plot.fig.legend(handles, labels, ncol=3, bbox_to_anchor=(0.98, 0.47), \n",
    "                 frameon=False);"
   ]
  },
  {
   "cell_type": "code",
   "execution_count": null,
   "metadata": {},
   "outputs": [],
   "source": [
    "pal1=['orangered','peru','gold','khaki','darkkhaki','navy','deepskyblue','dimgrey',\n",
    "              'lightskyblue','lime','indigo','thistle']\n",
    "\n",
    "plot = sns.relplot(x='year', y='hectares', data=melt_coun_cols_cp.query('Continent==\"Europe\" & hectares > 50000'), \n",
    "                  kind='line',col='Land use', col_wrap=1,hue = 'Country',legend='brief', aspect=2)\n",
    "plt.xticks(rotation=90)\n",
    "plt.subplots_adjust(hspace=0.3);"
   ]
  },
  {
   "cell_type": "code",
   "execution_count": null,
   "metadata": {},
   "outputs": [],
   "source": [
    "USSR = melt_coun_cols_cp[melt_coun_cols_cp['Country']==\"USSR\"]\n",
    "USSR"
   ]
  },
  {
   "cell_type": "code",
   "execution_count": null,
   "metadata": {},
   "outputs": [],
   "source": [
    "plot = sns.relplot(x='Land area', y='hectares', data=melt_coun_cols_cp.query('Continent ==\"South America\"'), \n",
    "                  kind='scatter',col='Land use',col_wrap = 2, hue = 'Country', \n",
    "                size='Land area',sizes=(50,200),\n",
    "                legend='brief', aspect=1)\n",
    "plot.fig.suptitle('Land use in South America from 1961 - 2017', x=0.5, y=1.025)\n",
    "handles,labels = plot.axes[0].get_legend_handles_labels()\n",
    "plot._legend.remove()\n",
    "plot.fig.legend(handles, labels, ncol=1, bbox_to_anchor=(0.7, 0.5), \n",
    "                 frameon=False);"
   ]
  },
  {
   "cell_type": "code",
   "execution_count": null,
   "metadata": {},
   "outputs": [],
   "source": [
    "pal1=['orangered','peru','gold','khaki','darkkhaki','navy','deepskyblue','dimgrey',\n",
    "              'lightskyblue','lime','indigo','thistle']\n",
    "\n",
    "plot = sns.relplot(x='year', y='hectares', data=melt_coun_cols_cp.query('Continent==\"South America\" & hectares > 20000'), \n",
    "                  kind='line',col='Land use', col_wrap=1,hue = 'Country',legend='brief', aspect=2)\n",
    "plt.xticks(rotation=90)\n",
    "plt.subplots_adjust(hspace=0.3);"
   ]
  },
  {
   "cell_type": "code",
   "execution_count": null,
   "metadata": {},
   "outputs": [],
   "source": [
    "plot = sns.relplot(x='Land area', y='hectares', data=melt_coun_cols_cp.query('Continent ==\"Northern America\"'), \n",
    "                  kind='scatter',col='Land use',col_wrap = 2, hue = 'Country', \n",
    "                size='Land area',sizes=(50,200),\n",
    "                legend='brief', aspect=1)\n",
    "plot.fig.suptitle('Land use in North America from 1961 - 2017', x=0.5, y=1.025)\n",
    "handles,labels = plot.axes[0].get_legend_handles_labels()\n",
    "plot._legend.remove()\n",
    "plot.fig.legend(handles, labels, ncol=1, bbox_to_anchor=(0.7, 0.4), \n",
    "                 frameon=False);"
   ]
  },
  {
   "cell_type": "code",
   "execution_count": null,
   "metadata": {},
   "outputs": [],
   "source": [
    "plot = sns.relplot(x='Land area', y='hectares', data=melt_coun_cols_cp.query('Continent ==\"Australia\"'), \n",
    "                  kind='scatter',col='Land use',col_wrap = 2, hue = 'Country', \n",
    "                size='Land area',sizes=(50,200),\n",
    "                legend='brief', aspect=1)\n",
    "plot.fig.suptitle('Land use in Australia from 1961 - 2017', x=0.5, y=1.025)\n",
    "handles,labels = plot.axes[0].get_legend_handles_labels()\n",
    "plot._legend.remove()\n",
    "plot.fig.legend(handles, labels, ncol=1, bbox_to_anchor=(0.7, 0.4), \n",
    "                 frameon=False);"
   ]
  },
  {
   "cell_type": "markdown",
   "metadata": {},
   "source": [
    "### Plot countries in which the amount fo land area in use has changed over time"
   ]
  },
  {
   "cell_type": "code",
   "execution_count": null,
   "metadata": {
    "scrolled": false
   },
   "outputs": [],
   "source": [
    "pal3 = ['orangered','peru','gold','darkkhaki','darkgreen','navy','deepskyblue','dimgrey',\n",
    "              'lightskyblue','lime','indigo']\n",
    "sns.set_style('whitegrid')\n",
    "\n",
    "plot = sns.relplot(x='Land area', y='hectares', \n",
    "                   data=melt_coun_cols_cp.query('Country ==[\"India\", \"China\",\"Saudi Arabia\",\"Mongolia\", \"Sudan(former)\",\"South Africa\", \"USSR\", \"Russian Federation\", \"Brazil\", \"Argentina\",\"United States of America\", \"Australia\"]'),\n",
    "                   kind='scatter',col='Land use',col_wrap = 2, hue = 'Country', size='Land area',sizes=(50,200),\n",
    "                    legend='brief', aspect=1, palette=pal3)\n",
    "                   \n",
    "plot.fig.suptitle('Countries in which land use area has changed since 1961', x=0.46, y=1.028, fontsize=14)\n",
    "handles,labels = plot.axes[0].get_legend_handles_labels()\n",
    "plot._legend.remove()\n",
    "plot.fig.legend(handles, labels, ncol=1, bbox_to_anchor=(0.7, 0.46),frameon=False);"
   ]
  },
  {
   "cell_type": "code",
   "execution_count": null,
   "metadata": {
    "scrolled": false
   },
   "outputs": [],
   "source": [
    "pal3 = ['orangered','peru','gold','darkkhaki','darkgreen','navy','deepskyblue','dimgrey','lightskyblue','lime','indigo']\n",
    "sns.set_style('whitegrid')\n",
    "\n",
    "plot = sns.relplot(x='year', y='hectares', \n",
    "                   data=melt_coun_cols_cp.query('Country ==[\"India\", \"China\", \"Saudi Arabia\",\"Mongolia\",\"Sudan(former)\",\"South Africa\", \"USSR\", \"Russian Federation\", \"Brazil\", \"Argentina\",\"United States of America\", \"Australia\"]'), \n",
    "                  kind='scatter',col='Land use', col_wrap=1,hue = 'Country',legend='brief', aspect=2, palette=pal3)\n",
    "                   \n",
    "plt.xticks(rotation=90)\n",
    "plt.subplots_adjust(hspace=0.3)\n",
    "plot.fig.suptitle('Countries in which land use area has changed since 1961', x=0.46, y=1.028, fontsize=14);\n",
    "\n"
   ]
  },
  {
   "cell_type": "markdown",
   "metadata": {},
   "source": [
    "### Average land use hectares"
   ]
  },
  {
   "cell_type": "code",
   "execution_count": null,
   "metadata": {
    "scrolled": true
   },
   "outputs": [],
   "source": [
    "Mean_hect = melt_coun_cols_cp.groupby(['Land use','Country']).mean()\n",
    "Mean_hect.sort_values(['hectares'], ascending=False).head(100)"
   ]
  },
  {
   "cell_type": "code",
   "execution_count": null,
   "metadata": {},
   "outputs": [],
   "source": [
    "sns.set_style('whitegrid')\n",
    "country_pal=['lightgreen','orangered','peru','gold','darkkhaki','darkgreen','lime', 'red','navy','deepskyblue','dimgrey','lightskyblue','indigo']\n",
    "plot = sns.catplot(x='hectares', y='Country', \n",
    "                   data=melt_coun_cols_cp.query('Country ==[\"Australia\", \"China\", \"United States of America\", \"Brazil\", \"India\", \"Mongolia\", \"Saudi Arabia\", \"Argentina\",\"Sudan(former)\",\"Kazakhstan\",\"South Africa\",\"Mexico\",\"Russian Federation\",\"Angola\"]'),\n",
    "                   kind='point',col='Land use', join=False, ci='sd', hue='Country', legend=False, palette=country_pal)\n",
    "plot.set(ylabel='', xlabel='Hectares');"
   ]
  },
  {
   "cell_type": "code",
   "execution_count": null,
   "metadata": {},
   "outputs": [],
   "source": []
  }
 ],
 "metadata": {
  "kernelspec": {
   "display_name": "Python 3",
   "language": "python",
   "name": "python3"
  },
  "language_info": {
   "codemirror_mode": {
    "name": "ipython",
    "version": 3
   },
   "file_extension": ".py",
   "mimetype": "text/x-python",
   "name": "python",
   "nbconvert_exporter": "python",
   "pygments_lexer": "ipython3",
   "version": "3.7.7"
  }
 },
 "nbformat": 4,
 "nbformat_minor": 4
}
